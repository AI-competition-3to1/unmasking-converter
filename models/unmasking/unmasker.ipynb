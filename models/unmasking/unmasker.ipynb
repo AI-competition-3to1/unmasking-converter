{
 "cells": [
  {
   "cell_type": "code",
   "execution_count": 1,
   "metadata": {
    "executionInfo": {
     "elapsed": 4726,
     "status": "ok",
     "timestamp": 1626265760104,
     "user": {
      "displayName": "이상윤",
      "photoUrl": "",
      "userId": "05170327626220200574"
     },
     "user_tz": -540
    },
    "id": "vw87uRjl-zdj"
   },
   "outputs": [],
   "source": [
    "import numpy as np\n",
    "import os\n",
    "import cv2\n",
    "import torch\n",
    "import torch.nn as nn\n",
    "from torch.nn import Parameter\n",
    "import torch.nn.functional as F\n",
    "import torch.utils.data as data\n",
    "from torchvision.models import vgg19\n",
    "from torchvision.utils import make_grid\n",
    "import matplotlib.pyplot as plt"
   ]
  },
  {
   "cell_type": "code",
   "execution_count": 2,
   "metadata": {
    "executionInfo": {
     "elapsed": 4237,
     "status": "ok",
     "timestamp": 1626265787502,
     "user": {
      "displayName": "이상윤",
      "photoUrl": "",
      "userId": "05170327626220200574"
     },
     "user_tz": -540
    },
    "id": "jyd0rHeEsHlL"
   },
   "outputs": [],
   "source": [
    "from UNetTrainer import *"
   ]
  },
  {
   "cell_type": "code",
   "execution_count": 3,
   "metadata": {
    "executionInfo": {
     "elapsed": 241,
     "status": "ok",
     "timestamp": 1626265805932,
     "user": {
      "displayName": "이상윤",
      "photoUrl": "",
      "userId": "05170327626220200574"
     },
     "user_tz": -540
    },
    "id": "9IYKrkO1jZI-"
   },
   "outputs": [
    {
     "name": "stdout",
     "output_type": "stream",
     "text": [
      "D:/downloads/aicomp/unmasking-converter/models/data/train\n",
      "D:/downloads/aicomp/unmasking-converter/models/data/valid\n"
     ]
    }
   ],
   "source": [
    "trainer=UnetTrainer(25,'D:/downloads/aicomp/unmasking-converter/models/data/')"
   ]
  },
  {
   "cell_type": "code",
   "execution_count": 4,
   "metadata": {
    "colab": {
     "base_uri": "https://localhost:8080/"
    },
    "executionInfo": {
     "elapsed": 735538,
     "status": "ok",
     "timestamp": 1626266543841,
     "user": {
      "displayName": "이상윤",
      "photoUrl": "",
      "userId": "05170327626220200574"
     },
     "user_tz": -540
    },
    "id": "BPQ2QJ-LZrer",
    "outputId": "f57e3029-910a-41d9-84d2-17fb600967b1"
   },
   "outputs": [
    {
     "name": "stderr",
     "output_type": "stream",
     "text": [
      "c:\\users\\eondr\\appdata\\local\\programs\\python\\python39\\lib\\site-packages\\torch\\nn\\functional.py:718: UserWarning: Named tensors and all their associated APIs are an experimental feature and subject to change. Please do not use them for anything important until they are released as stable. (Triggered internally at  ..\\c10/core/TensorImpl.h:1156.)\n",
      "  return torch.max_pool2d(input, kernel_size, stride, padding, dilation, ceil_mode)\n"
     ]
    },
    {
     "name": "stdout",
     "output_type": "stream",
     "text": [
      "[0/25][0/12038] || DICE: 0.00831 || BCE: 0.00603 || T: 0.01434 || Time: 1.21063s\n",
      "[0/25][100/12038] || DICE: 0.63752 || BCE: 0.32489 || T: 0.96241 || Time: 1.9388s\n",
      "[0/25][200/12038] || DICE: 0.59077 || BCE: 0.25184 || T: 0.8426 || Time: 1.89092s\n",
      "[0/25][300/12038] || DICE: 0.57474 || BCE: 0.21929 || T: 0.79404 || Time: 1.87996s\n",
      "[0/25][400/12038] || DICE: 0.55811 || BCE: 0.1905 || T: 0.74862 || Time: 1.89792s\n",
      "=============================EVALUATION===================================\n",
      "[0/25] || Validation || DICE: 0.68227 || BCE: 0.26737 || T: 0.94963 || Time: 1.01856s\n",
      "Pixel Accuracy: 0.9398\n",
      "Intersection over Union: 0.5176\n",
      "==========================================================================\n",
      "[1/25][500/12038] || DICE: 0.20788 || BCE: 0.06177 || T: 0.26966 || Time: 0.72207s\n",
      "[1/25][600/12038] || DICE: 0.54027 || BCE: 0.14887 || T: 0.68914 || Time: 1.88694s\n",
      "[1/25][700/12038] || DICE: 0.53086 || BCE: 0.12999 || T: 0.66085 || Time: 1.89094s\n",
      "[1/25][800/12038] || DICE: 0.52448 || BCE: 0.11453 || T: 0.63901 || Time: 1.88196s\n",
      "[1/25][900/12038] || DICE: 0.51941 || BCE: 0.10176 || T: 0.62117 || Time: 1.88396s\n",
      "=============================EVALUATION===================================\n",
      "[1/25] || Validation || DICE: 0.53385 || BCE: 0.11443 || T: 0.64829 || Time: 0.41889s\n",
      "Pixel Accuracy: 0.9884\n",
      "Intersection over Union: 0.9116\n",
      "==========================================================================\n",
      "[2/25][1000/12038] || DICE: 0.38787 || BCE: 0.06869 || T: 0.45655 || Time: 1.41321s\n",
      "[2/25][1100/12038] || DICE: 0.51338 || BCE: 0.08179 || T: 0.59517 || Time: 1.87896s\n",
      "[2/25][1200/12038] || DICE: 0.5116 || BCE: 0.07556 || T: 0.58716 || Time: 1.88695s\n",
      "[2/25][1300/12038] || DICE: 0.50909 || BCE: 0.06693 || T: 0.57603 || Time: 1.89094s\n",
      "=============================EVALUATION===================================\n",
      "[2/25] || Validation || DICE: 0.52557 || BCE: 0.08011 || T: 0.60568 || Time: 0.42287s\n",
      "Pixel Accuracy: 0.9865\n",
      "Intersection over Union: 0.8951\n",
      "==========================================================================\n",
      "[3/25][1400/12038] || DICE: 0.06098 || BCE: 0.00723 || T: 0.06822 || Time: 0.22639s\n",
      "[3/25][1500/12038] || DICE: 0.50748 || BCE: 0.05741 || T: 0.56489 || Time: 1.88896s\n",
      "[3/25][1600/12038] || DICE: 0.50662 || BCE: 0.05297 || T: 0.55959 || Time: 1.88497s\n",
      "[3/25][1700/12038] || DICE: 0.50515 || BCE: 0.04817 || T: 0.55332 || Time: 1.88591s\n",
      "[3/25][1800/12038] || DICE: 0.5042 || BCE: 0.04322 || T: 0.54742 || Time: 1.89594s\n",
      "=============================EVALUATION===================================\n",
      "[3/25] || Validation || DICE: 0.90621 || BCE: 0.42726 || T: 1.33347 || Time: 0.41988s\n",
      "Pixel Accuracy: 0.8808\n",
      "Intersection over Union: 0.0631\n",
      "==========================================================================\n",
      "[4/25][1900/12038] || DICE: 0.2489 || BCE: 0.02331 || T: 0.27221 || Time: 0.92951s\n",
      "[4/25][2000/12038] || DICE: 0.50556 || BCE: 0.0407 || T: 0.54625 || Time: 1.89193s\n",
      "[4/25][2100/12038] || DICE: 0.50341 || BCE: 0.03606 || T: 0.53947 || Time: 1.88794s\n",
      "[4/25][2200/12038] || DICE: 0.503 || BCE: 0.0327 || T: 0.53569 || Time: 1.89491s\n",
      "[4/25][2300/12038] || DICE: 0.50236 || BCE: 0.02968 || T: 0.53204 || Time: 1.88694s\n",
      "=============================EVALUATION===================================\n",
      "[4/25] || Validation || DICE: 0.50321 || BCE: 0.03 || T: 0.53321 || Time: 0.41886s\n",
      "Pixel Accuracy: 0.9983\n",
      "Intersection over Union: 0.9861\n",
      "==========================================================================\n",
      "[5/25][2400/12038] || DICE: 0.43197 || BCE: 0.02419 || T: 0.45616 || Time: 1.62264s\n",
      "[5/25][2500/12038] || DICE: 0.50222 || BCE: 0.02631 || T: 0.52852 || Time: 1.87696s\n",
      "[5/25][2600/12038] || DICE: 0.50192 || BCE: 0.02546 || T: 0.52738 || Time: 1.88494s\n",
      "[5/25][2700/12038] || DICE: 0.50158 || BCE: 0.02244 || T: 0.52401 || Time: 1.87098s\n",
      "=============================EVALUATION===================================\n",
      "[5/25] || Validation || DICE: 0.50181 || BCE: 0.02109 || T: 0.5229 || Time: 0.42985s\n",
      "Pixel Accuracy: 0.9988\n",
      "Intersection over Union: 0.9902\n",
      "==========================================================================\n",
      "[6/25][2800/12038] || DICE: 0.11538 || BCE: 0.00488 || T: 0.12026 || Time: 0.43284s\n",
      "[6/25][2900/12038] || DICE: 0.50137 || BCE: 0.02004 || T: 0.52141 || Time: 1.88994s\n",
      "[6/25][3000/12038] || DICE: 0.50128 || BCE: 0.01921 || T: 0.52049 || Time: 1.88893s\n",
      "[6/25][3100/12038] || DICE: 0.50123 || BCE: 0.01816 || T: 0.51939 || Time: 1.88394s\n",
      "[6/25][3200/12038] || DICE: 0.50095 || BCE: 0.01623 || T: 0.51718 || Time: 1.88095s\n",
      "=============================EVALUATION===================================\n",
      "[6/25] || Validation || DICE: 0.50126 || BCE: 0.01585 || T: 0.51712 || Time: 0.42586s\n",
      "Pixel Accuracy: 0.9989\n",
      "Intersection over Union: 0.9913\n",
      "==========================================================================\n",
      "[7/25][3300/12038] || DICE: 0.30066 || BCE: 0.00949 || T: 0.31015 || Time: 1.12398s\n",
      "[7/25][3400/12038] || DICE: 0.50088 || BCE: 0.01463 || T: 0.51551 || Time: 1.87597s\n",
      "[7/25][3500/12038] || DICE: 0.50105 || BCE: 0.01522 || T: 0.51626 || Time: 1.88495s\n",
      "[7/25][3600/12038] || DICE: 0.50083 || BCE: 0.01316 || T: 0.514 || Time: 1.88694s\n",
      "[7/25][3700/12038] || DICE: 0.50068 || BCE: 0.01221 || T: 0.51289 || Time: 1.89592s\n",
      "=============================EVALUATION===================================\n",
      "[7/25] || Validation || DICE: 0.50098 || BCE: 0.01229 || T: 0.51327 || Time: 0.42786s\n",
      "Pixel Accuracy: 0.999\n",
      "Intersection over Union: 0.9923\n",
      "==========================================================================\n",
      "[8/25][3800/12038] || DICE: 0.48582 || BCE: 0.01182 || T: 0.49764 || Time: 1.8281s\n",
      "[8/25][3900/12038] || DICE: 0.50072 || BCE: 0.01143 || T: 0.51215 || Time: 1.88295s\n",
      "[8/25][4000/12038] || DICE: 0.50084 || BCE: 0.01182 || T: 0.51266 || Time: 1.88394s\n",
      "[8/25][4100/12038] || DICE: 0.5006 || BCE: 0.01003 || T: 0.51064 || Time: 1.87995s\n",
      "=============================EVALUATION===================================\n",
      "[8/25] || Validation || DICE: 0.50081 || BCE: 0.0098 || T: 0.51062 || Time: 0.41885s\n",
      "Pixel Accuracy: 0.9991\n",
      "Intersection over Union: 0.9929\n",
      "==========================================================================\n",
      "[9/25][4200/12038] || DICE: 0.17027 || BCE: 0.00341 || T: 0.17368 || Time: 0.64427s\n",
      "[9/25][4300/12038] || DICE: 0.50063 || BCE: 0.00939 || T: 0.51002 || Time: 1.88295s\n",
      "[9/25][4400/12038] || DICE: 0.5007 || BCE: 0.0097 || T: 0.5104 || Time: 1.88794s\n",
      "[9/25][4500/12038] || DICE: 0.50066 || BCE: 0.009 || T: 0.50966 || Time: 1.92085s\n",
      "[9/25][4600/12038] || DICE: 0.50047 || BCE: 0.00793 || T: 0.5084 || Time: 1.98419s\n",
      "=============================EVALUATION===================================\n",
      "[9/25] || Validation || DICE: 0.5007 || BCE: 0.00801 || T: 0.50871 || Time: 0.42185s\n",
      "Pixel Accuracy: 0.9992\n",
      "Intersection over Union: 0.9934\n",
      "==========================================================================\n",
      "[10/25][4700/12038] || DICE: 0.35547 || BCE: 0.00574 || T: 0.36121 || Time: 1.37934s\n",
      "[10/25][4800/12038] || DICE: 0.50049 || BCE: 0.00724 || T: 0.50773 || Time: 2.02011s\n",
      "[10/25][4900/12038] || DICE: 0.50075 || BCE: 0.00841 || T: 0.50916 || Time: 1.95031s\n",
      "[10/25][5000/12038] || DICE: 0.50049 || BCE: 0.00655 || T: 0.50703 || Time: 1.98718s\n",
      "=============================EVALUATION===================================\n",
      "[10/25] || Validation || DICE: 0.50065 || BCE: 0.00646 || T: 0.50711 || Time: 0.42087s\n",
      "Pixel Accuracy: 0.9992\n",
      "Intersection over Union: 0.9938\n",
      "==========================================================================\n",
      "[11/25][5100/12038] || DICE: 0.04006 || BCE: 0.00055 || T: 0.0406 || Time: 0.15758s\n",
      "[11/25][5200/12038] || DICE: 0.50056 || BCE: 0.0064 || T: 0.50695 || Time: 1.98971s\n",
      "[11/25][5300/12038] || DICE: 0.50053 || BCE: 0.00635 || T: 0.50688 || Time: 1.90142s\n",
      "[11/25][5400/12038] || DICE: 0.50061 || BCE: 0.00666 || T: 0.50728 || Time: 1.95487s\n",
      "[11/25][5500/12038] || DICE: 0.5004 || BCE: 0.0054 || T: 0.5058 || Time: 2.03903s\n",
      "=============================EVALUATION===================================\n",
      "[11/25] || Validation || DICE: 0.50057 || BCE: 0.00549 || T: 0.50606 || Time: 0.43182s\n",
      "Pixel Accuracy: 0.9993\n",
      "Intersection over Union: 0.9941\n",
      "==========================================================================\n",
      "[12/25][5600/12038] || DICE: 0.22526 || BCE: 0.00256 || T: 0.22782 || Time: 0.88716s\n"
     ]
    },
    {
     "name": "stdout",
     "output_type": "stream",
     "text": [
      "[12/25][5700/12038] || DICE: 0.50044 || BCE: 0.00526 || T: 0.5057 || Time: 1.97669s\n",
      "[12/25][5800/12038] || DICE: 0.50061 || BCE: 0.00615 || T: 0.50676 || Time: 2.06001s\n",
      "[12/25][5900/12038] || DICE: 0.50073 || BCE: 0.00577 || T: 0.5065 || Time: 1.97276s\n",
      "[12/25][6000/12038] || DICE: 0.50079 || BCE: 0.00563 || T: 0.50642 || Time: 2.06699s\n",
      "=============================EVALUATION===================================\n",
      "[12/25] || Validation || DICE: 0.56116 || BCE: 0.08668 || T: 0.64784 || Time: 0.42786s\n",
      "Pixel Accuracy: 0.9699\n",
      "Intersection over Union: 0.758\n",
      "==========================================================================\n",
      "[13/25][6100/12038] || DICE: 0.41079 || BCE: 0.00484 || T: 0.41563 || Time: 1.67301s\n",
      "[13/25][6200/12038] || DICE: 0.50108 || BCE: 0.00596 || T: 0.50703 || Time: 1.93585s\n",
      "[13/25][6300/12038] || DICE: 0.50087 || BCE: 0.00635 || T: 0.50721 || Time: 1.94431s\n",
      "[13/25][6400/12038] || DICE: 0.50115 || BCE: 0.00553 || T: 0.50668 || Time: 1.9284s\n",
      "=============================EVALUATION===================================\n",
      "[13/25] || Validation || DICE: 0.50402 || BCE: 0.01108 || T: 0.51511 || Time: 0.42546s\n",
      "Pixel Accuracy: 0.997\n",
      "Intersection over Union: 0.9761\n",
      "==========================================================================\n",
      "[14/25][6500/12038] || DICE: 0.09516 || BCE: 0.00099 || T: 0.09615 || Time: 0.36704s\n",
      "[14/25][6600/12038] || DICE: 0.50059 || BCE: 0.00459 || T: 0.50518 || Time: 1.96479s\n",
      "[14/25][6700/12038] || DICE: 0.50079 || BCE: 0.00514 || T: 0.50593 || Time: 1.96127s\n",
      "[14/25][6800/12038] || DICE: 0.50067 || BCE: 0.00505 || T: 0.50572 || Time: 1.97871s\n",
      "[14/25][6900/12038] || DICE: 0.50043 || BCE: 0.00398 || T: 0.50441 || Time: 1.94182s\n",
      "=============================EVALUATION===================================\n",
      "[14/25] || Validation || DICE: 0.50079 || BCE: 0.00468 || T: 0.50547 || Time: 0.42287s\n",
      "Pixel Accuracy: 0.9991\n",
      "Intersection over Union: 0.9926\n",
      "==========================================================================\n",
      "[15/25][7000/12038] || DICE: 0.28036 || BCE: 0.00245 || T: 0.28281 || Time: 1.10004s\n",
      "[15/25][7100/12038] || DICE: 0.50048 || BCE: 0.00398 || T: 0.50445 || Time: 2.04507s\n",
      "[15/25][7200/12038] || DICE: 0.5007 || BCE: 0.00521 || T: 0.50591 || Time: 2.03708s\n",
      "[15/25][7300/12038] || DICE: 0.50064 || BCE: 0.0043 || T: 0.50494 || Time: 2.05506s\n",
      "[15/25][7400/12038] || DICE: 0.50041 || BCE: 0.00369 || T: 0.5041 || Time: 2.02012s\n",
      "=============================EVALUATION===================================\n",
      "[15/25] || Validation || DICE: 0.50074 || BCE: 0.0043 || T: 0.50503 || Time: 0.47872s\n",
      "Pixel Accuracy: 0.9991\n",
      "Intersection over Union: 0.9928\n",
      "==========================================================================\n",
      "[16/25][7500/12038] || DICE: 0.46549 || BCE: 0.00364 || T: 0.46913 || Time: 1.85605s\n",
      "[16/25][7600/12038] || DICE: 0.50047 || BCE: 0.00381 || T: 0.50427 || Time: 1.97125s\n",
      "[16/25][7700/12038] || DICE: 0.50062 || BCE: 0.00473 || T: 0.50535 || Time: 1.95927s\n",
      "[16/25][7800/12038] || DICE: 0.50038 || BCE: 0.00342 || T: 0.5038 || Time: 2.054s\n",
      "=============================EVALUATION===================================\n",
      "[16/25] || Validation || DICE: 0.50712 || BCE: 0.01875 || T: 0.52587 || Time: 0.44064s\n",
      "Pixel Accuracy: 0.9955\n",
      "Intersection over Union: 0.9691\n",
      "==========================================================================\n",
      "[17/25][7900/12038] || DICE: 0.15031 || BCE: 0.00141 || T: 0.15172 || Time: 0.60737s\n",
      "[17/25][8000/12038] || DICE: 0.5007 || BCE: 0.00408 || T: 0.50478 || Time: 1.97675s\n",
      "[17/25][8100/12038] || DICE: 0.50069 || BCE: 0.0045 || T: 0.50518 || Time: 2.08198s\n",
      "[17/25][8200/12038] || DICE: 0.50058 || BCE: 0.00406 || T: 0.50464 || Time: 2.00764s\n",
      "[17/25][8300/12038] || DICE: 0.50043 || BCE: 0.00337 || T: 0.5038 || Time: 1.94481s\n",
      "=============================EVALUATION===================================\n",
      "[17/25] || Validation || DICE: 0.50111 || BCE: 0.00465 || T: 0.50576 || Time: 0.45977s\n",
      "Pixel Accuracy: 0.9988\n",
      "Intersection over Union: 0.9904\n",
      "==========================================================================\n",
      "[18/25][8400/12038] || DICE: 0.33537 || BCE: 0.00243 || T: 0.3378 || Time: 1.33145s\n",
      "[18/25][8500/12038] || DICE: 0.5004 || BCE: 0.00324 || T: 0.50364 || Time: 1.97323s\n",
      "[18/25][8600/12038] || DICE: 0.50066 || BCE: 0.00472 || T: 0.50539 || Time: 1.94382s\n",
      "[18/25][8700/12038] || DICE: 0.50045 || BCE: 0.00328 || T: 0.50374 || Time: 1.92087s\n",
      "=============================EVALUATION===================================\n",
      "[18/25] || Validation || DICE: 0.50059 || BCE: 0.00354 || T: 0.50413 || Time: 0.41988s\n",
      "Pixel Accuracy: 0.9992\n",
      "Intersection over Union: 0.9938\n",
      "==========================================================================\n",
      "[19/25][8800/12038] || DICE: 0.02002 || BCE: 0.00014 || T: 0.02016 || Time: 0.07779s\n",
      "[19/25][8900/12038] || DICE: 0.50047 || BCE: 0.00336 || T: 0.50383 || Time: 1.99867s\n",
      "[19/25][9000/12038] || DICE: 0.50045 || BCE: 0.00351 || T: 0.50396 || Time: 1.98374s\n",
      "[19/25][9100/12038] || DICE: 0.50055 || BCE: 0.00409 || T: 0.50464 || Time: 2.01511s\n",
      "[19/25][9200/12038] || DICE: 0.50032 || BCE: 0.00296 || T: 0.50328 || Time: 1.99065s\n",
      "=============================EVALUATION===================================\n",
      "[19/25] || Validation || DICE: 0.50048 || BCE: 0.00322 || T: 0.5037 || Time: 0.42135s\n",
      "Pixel Accuracy: 0.9993\n",
      "Intersection over Union: 0.9945\n",
      "==========================================================================\n",
      "[20/25][9300/12038] || DICE: 0.2052 || BCE: 0.00136 || T: 0.20656 || Time: 0.80885s\n",
      "[20/25][9400/12038] || DICE: 0.50038 || BCE: 0.00306 || T: 0.50344 || Time: 2.04417s\n",
      "[20/25][9500/12038] || DICE: 0.50054 || BCE: 0.00398 || T: 0.50453 || Time: 1.99018s\n",
      "[20/25][9600/12038] || DICE: 0.50043 || BCE: 0.00337 || T: 0.5038 || Time: 1.92882s\n",
      "[20/25][9700/12038] || DICE: 0.50032 || BCE: 0.0029 || T: 0.50321 || Time: 1.8979s\n",
      "=============================EVALUATION===================================\n",
      "[20/25] || Validation || DICE: 0.50046 || BCE: 0.00313 || T: 0.50359 || Time: 0.42686s\n",
      "Pixel Accuracy: 0.9994\n",
      "Intersection over Union: 0.9948\n",
      "==========================================================================\n",
      "[21/25][9800/12038] || DICE: 0.39035 || BCE: 0.00249 || T: 0.39284 || Time: 1.53091s\n",
      "[21/25][9900/12038] || DICE: 0.50034 || BCE: 0.00289 || T: 0.50322 || Time: 1.98672s\n",
      "[21/25][10000/12038] || DICE: 0.50061 || BCE: 0.00436 || T: 0.50497 || Time: 1.97324s\n",
      "[21/25][10100/12038] || DICE: 0.5003 || BCE: 0.0028 || T: 0.5031 || Time: 1.94143s\n",
      "=============================EVALUATION===================================\n",
      "[21/25] || Validation || DICE: 0.50043 || BCE: 0.00302 || T: 0.50345 || Time: 0.41689s\n",
      "Pixel Accuracy: 0.9994\n",
      "Intersection over Union: 0.995\n",
      "==========================================================================\n",
      "[22/25][10200/12038] || DICE: 0.07508 || BCE: 0.00049 || T: 0.07556 || Time: 0.28779s\n",
      "[22/25][10300/12038] || DICE: 0.50039 || BCE: 0.00301 || T: 0.50339 || Time: 1.99425s\n",
      "[22/25][10400/12038] || DICE: 0.50043 || BCE: 0.0034 || T: 0.50383 || Time: 1.93285s\n",
      "[22/25][10500/12038] || DICE: 0.50047 || BCE: 0.00364 || T: 0.50411 || Time: 1.96527s\n",
      "[22/25][10600/12038] || DICE: 0.50028 || BCE: 0.00271 || T: 0.50299 || Time: 2.01261s\n",
      "=============================EVALUATION===================================\n",
      "[22/25] || Validation || DICE: 0.50042 || BCE: 0.00297 || T: 0.50339 || Time: 0.43683s\n",
      "Pixel Accuracy: 0.9994\n",
      "Intersection over Union: 0.9951\n",
      "==========================================================================\n",
      "[23/25][10700/12038] || DICE: 0.26022 || BCE: 0.00159 || T: 0.26182 || Time: 1.13696s\n",
      "[23/25][10800/12038] || DICE: 0.50033 || BCE: 0.00282 || T: 0.50314 || Time: 2.07699s\n",
      "[23/25][10900/12038] || DICE: 0.50053 || BCE: 0.00397 || T: 0.50451 || Time: 2.00416s\n",
      "[23/25][11000/12038] || DICE: 0.50033 || BCE: 0.00294 || T: 0.50328 || Time: 2.01263s\n",
      "[23/25][11100/12038] || DICE: 0.50026 || BCE: 0.00266 || T: 0.50292 || Time: 1.94739s\n",
      "=============================EVALUATION===================================\n",
      "[23/25] || Validation || DICE: 0.50042 || BCE: 0.00293 || T: 0.50335 || Time: 0.44443s\n",
      "Pixel Accuracy: 0.9994\n",
      "Intersection over Union: 0.9951\n",
      "==========================================================================\n",
      "[24/25][11200/12038] || DICE: 0.44535 || BCE: 0.00265 || T: 0.448 || Time: 1.82764s\n"
     ]
    },
    {
     "name": "stdout",
     "output_type": "stream",
     "text": [
      "[24/25][11300/12038] || DICE: 0.50034 || BCE: 0.00289 || T: 0.50322 || Time: 1.96876s\n",
      "[24/25][11400/12038] || DICE: 0.50052 || BCE: 0.00397 || T: 0.5045 || Time: 1.98256s\n",
      "[24/25][11500/12038] || DICE: 0.50026 || BCE: 0.00264 || T: 0.5029 || Time: 2.0141s\n",
      "=============================EVALUATION===================================\n",
      "[24/25] || Validation || DICE: 0.50041 || BCE: 0.0029 || T: 0.50331 || Time: 0.42187s\n",
      "Pixel Accuracy: 0.9994\n",
      "Intersection over Union: 0.9952\n",
      "==========================================================================\n",
      "[25/25][11600/12038] || DICE: 0.13011 || BCE: 0.00079 || T: 0.1309 || Time: 0.50914s\n",
      "[25/25][11700/12038] || DICE: 0.50033 || BCE: 0.0028 || T: 0.50313 || Time: 2.07796s\n",
      "[25/25][11800/12038] || DICE: 0.50043 || BCE: 0.00344 || T: 0.50386 || Time: 1.9882s\n",
      "[25/25][11900/12038] || DICE: 0.5004 || BCE: 0.00332 || T: 0.50372 || Time: 2.02306s\n",
      "[25/25][12000/12038] || DICE: 0.50024 || BCE: 0.00259 || T: 0.50284 || Time: 1.95176s\n",
      "=============================EVALUATION===================================\n",
      "[25/25] || Validation || DICE: 0.5004 || BCE: 0.00287 || T: 0.50327 || Time: 0.41689s\n",
      "Pixel Accuracy: 0.9994\n",
      "Intersection over Union: 0.9952\n",
      "==========================================================================\n",
      "Model saved!\n"
     ]
    }
   ],
   "source": [
    "trainer.fit()"
   ]
  },
  {
   "cell_type": "code",
   "execution_count": 7,
   "metadata": {},
   "outputs": [],
   "source": [
    "from models.unet  import *"
   ]
  },
  {
   "cell_type": "code",
   "execution_count": 8,
   "metadata": {},
   "outputs": [
    {
     "data": {
      "text/plain": [
       "UNet(\n",
       "  (Maxpool1): MaxPool2d(kernel_size=2, stride=2, padding=0, dilation=1, ceil_mode=False)\n",
       "  (Maxpool2): MaxPool2d(kernel_size=2, stride=2, padding=0, dilation=1, ceil_mode=False)\n",
       "  (Maxpool3): MaxPool2d(kernel_size=2, stride=2, padding=0, dilation=1, ceil_mode=False)\n",
       "  (Maxpool4): MaxPool2d(kernel_size=2, stride=2, padding=0, dilation=1, ceil_mode=False)\n",
       "  (Conv1): conv_block(\n",
       "    (conv): Sequential(\n",
       "      (0): Conv2d(3, 32, kernel_size=(3, 3), stride=(1, 1), padding=(1, 1))\n",
       "      (1): BatchNorm2d(32, eps=1e-05, momentum=0.1, affine=True, track_running_stats=True)\n",
       "      (2): ReLU(inplace=True)\n",
       "      (3): Conv2d(32, 32, kernel_size=(3, 3), stride=(1, 1), padding=(1, 1))\n",
       "      (4): BatchNorm2d(32, eps=1e-05, momentum=0.1, affine=True, track_running_stats=True)\n",
       "      (5): ReLU(inplace=True)\n",
       "    )\n",
       "  )\n",
       "  (Conv2): conv_block(\n",
       "    (conv): Sequential(\n",
       "      (0): Conv2d(32, 64, kernel_size=(3, 3), stride=(1, 1), padding=(1, 1))\n",
       "      (1): BatchNorm2d(64, eps=1e-05, momentum=0.1, affine=True, track_running_stats=True)\n",
       "      (2): ReLU(inplace=True)\n",
       "      (3): Conv2d(64, 64, kernel_size=(3, 3), stride=(1, 1), padding=(1, 1))\n",
       "      (4): BatchNorm2d(64, eps=1e-05, momentum=0.1, affine=True, track_running_stats=True)\n",
       "      (5): ReLU(inplace=True)\n",
       "    )\n",
       "  )\n",
       "  (Conv3): conv_block(\n",
       "    (conv): Sequential(\n",
       "      (0): Conv2d(64, 128, kernel_size=(3, 3), stride=(1, 1), padding=(1, 1))\n",
       "      (1): BatchNorm2d(128, eps=1e-05, momentum=0.1, affine=True, track_running_stats=True)\n",
       "      (2): ReLU(inplace=True)\n",
       "      (3): Conv2d(128, 128, kernel_size=(3, 3), stride=(1, 1), padding=(1, 1))\n",
       "      (4): BatchNorm2d(128, eps=1e-05, momentum=0.1, affine=True, track_running_stats=True)\n",
       "      (5): ReLU(inplace=True)\n",
       "    )\n",
       "  )\n",
       "  (Conv4): conv_block(\n",
       "    (conv): Sequential(\n",
       "      (0): Conv2d(128, 256, kernel_size=(3, 3), stride=(1, 1), padding=(1, 1))\n",
       "      (1): BatchNorm2d(256, eps=1e-05, momentum=0.1, affine=True, track_running_stats=True)\n",
       "      (2): ReLU(inplace=True)\n",
       "      (3): Conv2d(256, 256, kernel_size=(3, 3), stride=(1, 1), padding=(1, 1))\n",
       "      (4): BatchNorm2d(256, eps=1e-05, momentum=0.1, affine=True, track_running_stats=True)\n",
       "      (5): ReLU(inplace=True)\n",
       "    )\n",
       "  )\n",
       "  (Conv5): conv_block(\n",
       "    (conv): Sequential(\n",
       "      (0): Conv2d(256, 512, kernel_size=(3, 3), stride=(1, 1), padding=(1, 1))\n",
       "      (1): BatchNorm2d(512, eps=1e-05, momentum=0.1, affine=True, track_running_stats=True)\n",
       "      (2): ReLU(inplace=True)\n",
       "      (3): Conv2d(512, 512, kernel_size=(3, 3), stride=(1, 1), padding=(1, 1))\n",
       "      (4): BatchNorm2d(512, eps=1e-05, momentum=0.1, affine=True, track_running_stats=True)\n",
       "      (5): ReLU(inplace=True)\n",
       "    )\n",
       "  )\n",
       "  (Up5): up_conv(\n",
       "    (up): Sequential(\n",
       "      (0): Upsample(scale_factor=2.0, mode=nearest)\n",
       "      (1): Conv2d(512, 256, kernel_size=(3, 3), stride=(1, 1), padding=(1, 1))\n",
       "      (2): BatchNorm2d(256, eps=1e-05, momentum=0.1, affine=True, track_running_stats=True)\n",
       "      (3): ReLU(inplace=True)\n",
       "    )\n",
       "  )\n",
       "  (Up_conv5): conv_block(\n",
       "    (conv): Sequential(\n",
       "      (0): Conv2d(512, 256, kernel_size=(3, 3), stride=(1, 1), padding=(1, 1))\n",
       "      (1): BatchNorm2d(256, eps=1e-05, momentum=0.1, affine=True, track_running_stats=True)\n",
       "      (2): ReLU(inplace=True)\n",
       "      (3): Conv2d(256, 256, kernel_size=(3, 3), stride=(1, 1), padding=(1, 1))\n",
       "      (4): BatchNorm2d(256, eps=1e-05, momentum=0.1, affine=True, track_running_stats=True)\n",
       "      (5): ReLU(inplace=True)\n",
       "    )\n",
       "  )\n",
       "  (Up4): up_conv(\n",
       "    (up): Sequential(\n",
       "      (0): Upsample(scale_factor=2.0, mode=nearest)\n",
       "      (1): Conv2d(256, 128, kernel_size=(3, 3), stride=(1, 1), padding=(1, 1))\n",
       "      (2): BatchNorm2d(128, eps=1e-05, momentum=0.1, affine=True, track_running_stats=True)\n",
       "      (3): ReLU(inplace=True)\n",
       "    )\n",
       "  )\n",
       "  (Up_conv4): conv_block(\n",
       "    (conv): Sequential(\n",
       "      (0): Conv2d(256, 128, kernel_size=(3, 3), stride=(1, 1), padding=(1, 1))\n",
       "      (1): BatchNorm2d(128, eps=1e-05, momentum=0.1, affine=True, track_running_stats=True)\n",
       "      (2): ReLU(inplace=True)\n",
       "      (3): Conv2d(128, 128, kernel_size=(3, 3), stride=(1, 1), padding=(1, 1))\n",
       "      (4): BatchNorm2d(128, eps=1e-05, momentum=0.1, affine=True, track_running_stats=True)\n",
       "      (5): ReLU(inplace=True)\n",
       "    )\n",
       "  )\n",
       "  (Up3): up_conv(\n",
       "    (up): Sequential(\n",
       "      (0): Upsample(scale_factor=2.0, mode=nearest)\n",
       "      (1): Conv2d(128, 64, kernel_size=(3, 3), stride=(1, 1), padding=(1, 1))\n",
       "      (2): BatchNorm2d(64, eps=1e-05, momentum=0.1, affine=True, track_running_stats=True)\n",
       "      (3): ReLU(inplace=True)\n",
       "    )\n",
       "  )\n",
       "  (Up_conv3): conv_block(\n",
       "    (conv): Sequential(\n",
       "      (0): Conv2d(128, 64, kernel_size=(3, 3), stride=(1, 1), padding=(1, 1))\n",
       "      (1): BatchNorm2d(64, eps=1e-05, momentum=0.1, affine=True, track_running_stats=True)\n",
       "      (2): ReLU(inplace=True)\n",
       "      (3): Conv2d(64, 64, kernel_size=(3, 3), stride=(1, 1), padding=(1, 1))\n",
       "      (4): BatchNorm2d(64, eps=1e-05, momentum=0.1, affine=True, track_running_stats=True)\n",
       "      (5): ReLU(inplace=True)\n",
       "    )\n",
       "  )\n",
       "  (Up2): up_conv(\n",
       "    (up): Sequential(\n",
       "      (0): Upsample(scale_factor=2.0, mode=nearest)\n",
       "      (1): Conv2d(64, 32, kernel_size=(3, 3), stride=(1, 1), padding=(1, 1))\n",
       "      (2): BatchNorm2d(32, eps=1e-05, momentum=0.1, affine=True, track_running_stats=True)\n",
       "      (3): ReLU(inplace=True)\n",
       "    )\n",
       "  )\n",
       "  (Up_conv2): conv_block(\n",
       "    (conv): Sequential(\n",
       "      (0): Conv2d(64, 32, kernel_size=(3, 3), stride=(1, 1), padding=(1, 1))\n",
       "      (1): BatchNorm2d(32, eps=1e-05, momentum=0.1, affine=True, track_running_stats=True)\n",
       "      (2): ReLU(inplace=True)\n",
       "      (3): Conv2d(32, 32, kernel_size=(3, 3), stride=(1, 1), padding=(1, 1))\n",
       "      (4): BatchNorm2d(32, eps=1e-05, momentum=0.1, affine=True, track_running_stats=True)\n",
       "      (5): ReLU(inplace=True)\n",
       "    )\n",
       "  )\n",
       "  (Conv): Conv2d(32, 1, kernel_size=(1, 1), stride=(1, 1))\n",
       "  (se1): SE_Block(\n",
       "    (squeeze): AdaptiveAvgPool2d(output_size=1)\n",
       "    (excitation): Sequential(\n",
       "      (0): Linear(in_features=32, out_features=2, bias=False)\n",
       "      (1): ReLU(inplace=True)\n",
       "      (2): Linear(in_features=2, out_features=32, bias=False)\n",
       "      (3): Sigmoid()\n",
       "    )\n",
       "  )\n",
       "  (se2): SE_Block(\n",
       "    (squeeze): AdaptiveAvgPool2d(output_size=1)\n",
       "    (excitation): Sequential(\n",
       "      (0): Linear(in_features=64, out_features=4, bias=False)\n",
       "      (1): ReLU(inplace=True)\n",
       "      (2): Linear(in_features=4, out_features=64, bias=False)\n",
       "      (3): Sigmoid()\n",
       "    )\n",
       "  )\n",
       "  (se3): SE_Block(\n",
       "    (squeeze): AdaptiveAvgPool2d(output_size=1)\n",
       "    (excitation): Sequential(\n",
       "      (0): Linear(in_features=128, out_features=8, bias=False)\n",
       "      (1): ReLU(inplace=True)\n",
       "      (2): Linear(in_features=8, out_features=128, bias=False)\n",
       "      (3): Sigmoid()\n",
       "    )\n",
       "  )\n",
       "  (active): Sigmoid()\n",
       ")"
      ]
     },
     "execution_count": 8,
     "metadata": {},
     "output_type": "execute_result"
    }
   ],
   "source": [
    "myunet=UNet()\n",
    "myunet.load_state_dict(torch.load('D:/downloads/aicomp/unmasking-converter/models/data/unet.pt'))\n",
    "myunet.eval()\n"
   ]
  },
  {
   "cell_type": "code",
   "execution_count": 60,
   "metadata": {},
   "outputs": [],
   "source": [
    "lee=cv2.imread('D:/downloads/lee_KN95.jpg')"
   ]
  },
  {
   "cell_type": "code",
   "execution_count": 61,
   "metadata": {},
   "outputs": [],
   "source": [
    "lee=cv2.resize(lee,(256,256))"
   ]
  },
  {
   "cell_type": "code",
   "execution_count": 62,
   "metadata": {},
   "outputs": [],
   "source": [
    "lee=torch.FloatTensor(np.expand_dims(lee,axis=0)/255.0).permute(0,3,1,2)"
   ]
  },
  {
   "cell_type": "code",
   "execution_count": 63,
   "metadata": {},
   "outputs": [],
   "source": [
    "myunet=UNet()\n",
    "myunet.load_state_dict(torch.load('D:/downloads/aicomp/unmasking-converter/models/data/unet.pt'))\n",
    "seg=myunet(lee)"
   ]
  },
  {
   "cell_type": "code",
   "execution_count": 64,
   "metadata": {},
   "outputs": [],
   "source": [
    "seg_n=seg.detach().permute(0,2,3,1).detach().numpy()\n",
    "seg_n=np.around(np.reshape(seg_n,(256,256,1)))*255"
   ]
  },
  {
   "cell_type": "code",
   "execution_count": 65,
   "metadata": {},
   "outputs": [
    {
     "data": {
      "text/plain": [
       "(256, 256, 1)"
      ]
     },
     "execution_count": 65,
     "metadata": {},
     "output_type": "execute_result"
    }
   ],
   "source": [
    "np.shape(seg_n)"
   ]
  },
  {
   "cell_type": "code",
   "execution_count": 66,
   "metadata": {},
   "outputs": [
    {
     "name": "stderr",
     "output_type": "stream",
     "text": [
      "Clipping input data to the valid range for imshow with RGB data ([0..1] for floats or [0..255] for integers).\n"
     ]
    },
    {
     "data": {
      "text/plain": [
       "<matplotlib.image.AxesImage at 0x25561418d30>"
      ]
     },
     "execution_count": 66,
     "metadata": {},
     "output_type": "execute_result"
    },
    {
     "data": {
      "image/png": "[encoded data removed]",
      "text/plain": [
       "<Figure size 432x288 with 1 Axes>"
      ]
     },
     "metadata": {
      "needs_background": "light"
     },
     "output_type": "display_data"
    }
   ],
   "source": [
    "plt.imshow(np.repeat(seg_n,3,axis=-1))"
   ]
  },
  {
   "cell_type": "code",
   "execution_count": 67,
   "metadata": {},
   "outputs": [
    {
     "name": "stdout",
     "output_type": "stream",
     "text": [
      "(256, 256, 1)\n"
     ]
    },
    {
     "data": {
      "text/plain": [
       "(256, 256)"
      ]
     },
     "execution_count": 67,
     "metadata": {},
     "output_type": "execute_result"
    }
   ],
   "source": [
    "print(np.shape(seg_n))\n",
    "seg_n=cv2.erode(seg_n,np.ones((3,3)),1)\n",
    "np.shape(seg_n)"
   ]
  },
  {
   "cell_type": "code",
   "execution_count": 74,
   "metadata": {},
   "outputs": [],
   "source": [
    "seg_n=cv2.dilate(seg_n,np.ones((5,5)),1)"
   ]
  },
  {
   "cell_type": "code",
   "execution_count": 75,
   "metadata": {},
   "outputs": [
    {
     "data": {
      "text/plain": [
       "(256, 256)"
      ]
     },
     "execution_count": 75,
     "metadata": {},
     "output_type": "execute_result"
    }
   ],
   "source": [
    "np.shape(seg_n)"
   ]
  },
  {
   "cell_type": "code",
   "execution_count": 76,
   "metadata": {},
   "outputs": [
    {
     "data": {
      "text/plain": [
       "<matplotlib.image.AxesImage at 0x2556f3ef340>"
      ]
     },
     "execution_count": 76,
     "metadata": {},
     "output_type": "execute_result"
    },
    {
     "data": {
      "image/png": "[encoded data removed]",
      "text/plain": [
       "<Figure size 432x288 with 1 Axes>"
      ]
     },
     "metadata": {
      "needs_background": "light"
     },
     "output_type": "display_data"
    }
   ],
   "source": [
    "plt.imshow(seg_n)"
   ]
  },
  {
   "cell_type": "code",
   "execution_count": 77,
   "metadata": {},
   "outputs": [],
   "source": [
    "seg=np.expand_dims(seg_n,axis=0)\n",
    "seg=np.expand_dims(seg,axis=0)\n",
    "seg=torch.FloatTensor(seg/255)"
   ]
  },
  {
   "cell_type": "code",
   "execution_count": 83,
   "metadata": {
    "executionInfo": {
     "elapsed": 1246,
     "status": "ok",
     "timestamp": 1626267232209,
     "user": {
      "displayName": "이상윤",
      "photoUrl": "",
      "userId": "05170327626220200574"
     },
     "user_tz": -540
    },
    "id": "mcUHA8H2qdfu"
   },
   "outputs": [],
   "source": [
    "from GatedTrainer import * "
   ]
  },
  {
   "cell_type": "code",
   "execution_count": 85,
   "metadata": {
    "colab": {
     "base_uri": "https://localhost:8080/",
     "height": 84,
     "referenced_widgets": [
      "3014a13958bd456ba0bc1f2be0a85a33",
      "f016fd75f59949c585a7845e5daa91c5",
      "d7dc1c96b9f644e2921e5a361a1ca5b6",
      "36dff01353a84721bcad14962b7e992b",
      "148851764bce46b19ba845d09cb9892a",
      "6f8f278315c64eeab4d3fc9d21d16807",
      "fb0f203efbd24e98aaf0cd435f9bb3e5",
      "656029a58ae340a8a704348ae98ab72d"
     ]
    },
    "executionInfo": {
     "elapsed": 9115,
     "status": "ok",
     "timestamp": 1626267244281,
     "user": {
      "displayName": "이상윤",
      "photoUrl": "",
      "userId": "05170327626220200574"
     },
     "user_tz": -540
    },
    "id": "la4POLR9LJS_",
    "outputId": "ae4b4699-851c-4ec5-f35c-ebd54ce4d3b6"
   },
   "outputs": [],
   "source": [
    "trainer=GatedTrainer(40,'D:/downloads/aicomp/unmasking-converter/models/data/')"
   ]
  },
  {
   "cell_type": "code",
   "execution_count": 86,
   "metadata": {
    "colab": {
     "base_uri": "https://localhost:8080/"
    },
    "executionInfo": {
     "elapsed": 2534175,
     "status": "ok",
     "timestamp": 1626269784844,
     "user": {
      "displayName": "이상윤",
      "photoUrl": "",
      "userId": "05170327626220200574"
     },
     "user_tz": -540
    },
    "id": "obmY66XbcwzT",
    "outputId": "7e5fade8-ca54-48d0-bd15-9b69b07f8d03",
    "scrolled": false
   },
   "outputs": [
    {
     "name": "stdout",
     "output_type": "stream",
     "text": [
      "[0|40] [0|94792] || D: 0.04841 || G: 0.28347 || P: 0.99255 || R_1: 1.03433 || R_2: 0.97687 || T: 3.28721 || Time:     0.4677s\n",
      "[0|40] [10|94792] || D: 0.57255 || G: 0.31571 || P: 5.38723 || R_1: 4.74398 || R_2: 4.35629 || T: 14.80321 || Time:     4.1948s\n",
      "[0|40] [20|94792] || D: 0.22966 || G: 0.25537 || P: 5.01355 || R_1: 3.56205 || R_2: 3.54079 || T: 12.37176 || Time:     4.1969s\n",
      "[0|40] [30|94792] || D: 0.1925 || G: 0.17333 || P: 4.57845 || R_1: 3.19096 || R_2: 3.17213 || T: 11.11487 || Time:     4.2228s\n",
      "[0|40] [40|94792] || D: 0.18079 || G: 0.19023 || P: 4.867 || R_1: 3.48909 || R_2: 3.45778 || T: 12.0041 || Time:     4.2382s\n",
      "[0|40] [50|94792] || D: 0.17584 || G: 0.17069 || P: 5.21362 || R_1: 3.7151 || R_2: 3.74425 || T: 12.84366 || Time:     4.2478s\n",
      "[0|40] [60|94792] || D: 0.16808 || G: 0.17909 || P: 5.04519 || R_1: 3.64681 || R_2: 3.7031 || T: 12.5742 || Time:     4.2413s\n",
      "[0|40] [70|94792] || D: 0.16825 || G: 0.16659 || P: 4.94142 || R_1: 3.70698 || R_2: 3.71984 || T: 12.53483 || Time:     4.2562s\n",
      "[0|40] [80|94792] || D: 0.1644 || G: 0.1721 || P: 5.17298 || R_1: 3.80127 || R_2: 3.85073 || T: 12.99708 || Time:     4.2454s\n",
      "[0|40] [90|94792] || D: 0.16737 || G: 0.17163 || P: 4.98827 || R_1: 3.56906 || R_2: 3.67157 || T: 12.40054 || Time:     4.2586s\n",
      "[0|40] [100|94792] || D: 0.16583 || G: 0.17198 || P: 4.98874 || R_1: 3.51706 || R_2: 3.61981 || T: 12.29759 || Time:     4.2581s\n",
      "[0|40] [110|94792] || D: 0.16331 || G: 0.16874 || P: 4.74781 || R_1: 3.2285 || R_2: 3.31177 || T: 11.45681 || Time:     4.2558s\n",
      "[0|40] [120|94792] || D: 0.16397 || G: 0.16427 || P: 5.35296 || R_1: 3.79836 || R_2: 3.89938 || T: 13.21498 || Time:     4.2661s\n",
      "[0|40] [130|94792] || D: 0.16422 || G: 0.17374 || P: 4.64364 || R_1: 3.2073 || R_2: 3.21431 || T: 11.23899 || Time:     4.2601s\n",
      "[0|40] [140|94792] || D: 0.16678 || G: 0.1714 || P: 4.64633 || R_1: 3.17883 || R_2: 3.18954 || T: 11.1861 || Time:     4.2688s\n",
      "[0|40] [150|94792] || D: 0.16446 || G: 0.17507 || P: 4.43782 || R_1: 3.0363 || R_2: 3.02539 || T: 10.67457 || Time:     4.2745s\n",
      "[0|40] [160|94792] || D: 0.16303 || G: 0.17708 || P: 4.7967 || R_1: 3.48414 || R_2: 3.42843 || T: 11.88636 || Time:     4.2748s\n",
      "[0|40] [170|94792] || D: 0.1612 || G: 0.16485 || P: 5.0422 || R_1: 3.61866 || R_2: 3.69577 || T: 12.52148 || Time:     4.2686s\n",
      "[0|40] [180|94792] || D: 0.16136 || G: 0.16279 || P: 4.90446 || R_1: 3.25157 || R_2: 3.28443 || T: 11.60325 || Time:     4.2653s\n",
      "[0|40] [190|94792] || D: 0.16022 || G: 0.17307 || P: 4.6843 || R_1: 3.1306 || R_2: 3.08362 || T: 11.0716 || Time:     4.2790s\n",
      "[0|40] [200|94792] || D: 0.16084 || G: 0.16734 || P: 4.80399 || R_1: 3.49786 || R_2: 3.38745 || T: 11.85665 || Time:     4.2694s\n",
      "[0|40] [210|94792] || D: 0.15944 || G: 0.16482 || P: 4.99996 || R_1: 3.66867 || R_2: 3.57704 || T: 12.41049 || Time:     4.2708s\n",
      "[0|40] [220|94792] || D: 0.16205 || G: 0.16911 || P: 4.33468 || R_1: 2.94124 || R_2: 2.8095 || T: 10.25453 || Time:     4.2798s\n",
      "[0|40] [230|94792] || D: 0.16237 || G: 0.17619 || P: 4.52321 || R_1: 2.96868 || R_2: 2.92859 || T: 10.59666 || Time:     4.2776s\n",
      "[0|40] [240|94792] || D: 0.15994 || G: 0.17418 || P: 4.46542 || R_1: 3.06893 || R_2: 2.96318 || T: 10.67171 || Time:     4.2777s\n",
      "[0|40] [250|94792] || D: 0.16268 || G: 0.16195 || P: 4.3242 || R_1: 2.99807 || R_2: 2.84582 || T: 10.33004 || Time:     4.2887s\n",
      "[0|40] [260|94792] || D: 0.1606 || G: 0.16906 || P: 4.71413 || R_1: 3.46092 || R_2: 3.29931 || T: 11.64343 || Time:     4.2976s\n",
      "[0|40] [270|94792] || D: 0.16334 || G: 0.17054 || P: 4.59187 || R_1: 3.27784 || R_2: 3.1211 || T: 11.16135 || Time:     4.2871s\n",
      "[0|40] [280|94792] || D: 0.16031 || G: 0.17449 || P: 4.74101 || R_1: 3.42071 || R_2: 3.30492 || T: 11.64114 || Time:     4.2767s\n",
      "[0|40] [290|94792] || D: 0.16183 || G: 0.17034 || P: 4.73137 || R_1: 3.20306 || R_2: 2.9899 || T: 11.09467 || Time:     4.3012s\n",
      "[0|40] [300|94792] || D: 0.16263 || G: 0.17292 || P: 4.29923 || R_1: 2.89403 || R_2: 2.84273 || T: 10.20891 || Time:     4.2982s\n",
      "[0|40] [310|94792] || D: 0.15975 || G: 0.17133 || P: 4.65806 || R_1: 3.33484 || R_2: 3.13149 || T: 11.29572 || Time:     4.2922s\n",
      "[0|40] [320|94792] || D: 0.16263 || G: 0.16351 || P: 4.24586 || R_1: 2.70426 || R_2: 2.63483 || T: 9.74847 || Time:     4.2896s\n"
     ]
    },
    {
     "ename": "KeyboardInterrupt",
     "evalue": "",
     "output_type": "error",
     "traceback": [
      "\u001b[1;31m---------------------------------------------------------------------------\u001b[0m",
      "\u001b[1;31mKeyboardInterrupt\u001b[0m                         Traceback (most recent call last)",
      "\u001b[1;32m<ipython-input-86-b6cd7ba69c0e>\u001b[0m in \u001b[0;36m<module>\u001b[1;34m\u001b[0m\n\u001b[1;32m----> 1\u001b[1;33m \u001b[0mtrainer\u001b[0m\u001b[1;33m.\u001b[0m\u001b[0mfit\u001b[0m\u001b[1;33m(\u001b[0m\u001b[1;33m)\u001b[0m\u001b[1;33m\u001b[0m\u001b[1;33m\u001b[0m\u001b[0m\n\u001b[0m",
      "\u001b[1;32mD:\\downloads\\aicomp\\unmasking-converter\\models\\unmasking\\GatedTrainer.py\u001b[0m in \u001b[0;36mfit\u001b[1;34m(self)\u001b[0m\n\u001b[0;32m    168\u001b[0m         \u001b[1;32mfor\u001b[0m \u001b[0mepoch\u001b[0m \u001b[1;32min\u001b[0m \u001b[0mrange\u001b[0m\u001b[1;33m(\u001b[0m\u001b[0mself\u001b[0m\u001b[1;33m.\u001b[0m\u001b[0mepoch\u001b[0m\u001b[1;33m,\u001b[0m \u001b[0mself\u001b[0m\u001b[1;33m.\u001b[0m\u001b[0mnum_epochs\u001b[0m\u001b[1;33m)\u001b[0m\u001b[1;33m:\u001b[0m\u001b[1;33m\u001b[0m\u001b[1;33m\u001b[0m\u001b[0m\n\u001b[0;32m    169\u001b[0m             \u001b[0mself\u001b[0m\u001b[1;33m.\u001b[0m\u001b[0mepoch\u001b[0m \u001b[1;33m=\u001b[0m \u001b[0mepoch\u001b[0m\u001b[1;33m\u001b[0m\u001b[1;33m\u001b[0m\u001b[0m\n\u001b[1;32m--> 170\u001b[1;33m             \u001b[0mself\u001b[0m\u001b[1;33m.\u001b[0m\u001b[0mtrain_epoch\u001b[0m\u001b[1;33m(\u001b[0m\u001b[1;33m)\u001b[0m\u001b[1;33m\u001b[0m\u001b[1;33m\u001b[0m\u001b[0m\n\u001b[0m\u001b[0;32m    171\u001b[0m             \u001b[0mprint\u001b[0m\u001b[1;33m(\u001b[0m\u001b[1;34m'validation_start'\u001b[0m\u001b[1;33m)\u001b[0m\u001b[1;33m\u001b[0m\u001b[1;33m\u001b[0m\u001b[0m\n\u001b[0;32m    172\u001b[0m             \u001b[1;32mwith\u001b[0m \u001b[0mtorch\u001b[0m\u001b[1;33m.\u001b[0m\u001b[0mno_grad\u001b[0m\u001b[1;33m(\u001b[0m\u001b[1;33m)\u001b[0m\u001b[1;33m:\u001b[0m\u001b[1;33m\u001b[0m\u001b[1;33m\u001b[0m\u001b[0m\n",
      "\u001b[1;32mD:\\downloads\\aicomp\\unmasking-converter\\models\\unmasking\\GatedTrainer.py\u001b[0m in \u001b[0;36mtrain_epoch\u001b[1;34m(self)\u001b[0m\n\u001b[0;32m     75\u001b[0m             \u001b[0msecond_out_wholeimg\u001b[0m \u001b[1;33m=\u001b[0m \u001b[0mimgs\u001b[0m \u001b[1;33m*\u001b[0m \u001b[1;33m(\u001b[0m\u001b[1;36m1\u001b[0m \u001b[1;33m-\u001b[0m \u001b[0mmasks\u001b[0m\u001b[1;33m)\u001b[0m \u001b[1;33m+\u001b[0m \u001b[0msecond_out\u001b[0m \u001b[1;33m*\u001b[0m \u001b[0mmasks\u001b[0m\u001b[1;33m\u001b[0m\u001b[1;33m\u001b[0m\u001b[0m\n\u001b[0;32m     76\u001b[0m \u001b[1;33m\u001b[0m\u001b[0m\n\u001b[1;32m---> 77\u001b[1;33m             \u001b[0mmasks\u001b[0m \u001b[1;33m=\u001b[0m \u001b[0mmasks\u001b[0m\u001b[1;33m.\u001b[0m\u001b[0mcpu\u001b[0m\u001b[1;33m(\u001b[0m\u001b[1;33m)\u001b[0m\u001b[1;33m\u001b[0m\u001b[1;33m\u001b[0m\u001b[0m\n\u001b[0m\u001b[0;32m     78\u001b[0m \u001b[1;33m\u001b[0m\u001b[0m\n\u001b[0;32m     79\u001b[0m             \u001b[0mfake_D\u001b[0m \u001b[1;33m=\u001b[0m \u001b[0mself\u001b[0m\u001b[1;33m.\u001b[0m\u001b[0mmodel_D\u001b[0m\u001b[1;33m(\u001b[0m\u001b[0msecond_out_wholeimg\u001b[0m\u001b[1;33m.\u001b[0m\u001b[0mdetach\u001b[0m\u001b[1;33m(\u001b[0m\u001b[1;33m)\u001b[0m\u001b[1;33m)\u001b[0m\u001b[1;33m\u001b[0m\u001b[1;33m\u001b[0m\u001b[0m\n",
      "\u001b[1;31mKeyboardInterrupt\u001b[0m: "
     ]
    }
   ],
   "source": [
    "trainer.fit()"
   ]
  },
  {
   "cell_type": "code",
   "execution_count": null,
   "metadata": {},
   "outputs": [],
   "source": [
    "torch.save(\n",
    "                    trainer.model_G.state_dict(),\n",
    "                    ('D:/downloads/aicomp/unmasking-converter/models/data/'+'/gated.pt'))"
   ]
  },
  {
   "cell_type": "code",
   "execution_count": 79,
   "metadata": {},
   "outputs": [],
   "source": [
    "from models.gated_network import *\n",
    "myGnet= GatedGenerator()\n",
    "myGnet.load_state_dict(torch.load('D:/downloads/aicomp/unmasking-converter/models/data/gated.pt'))\n",
    "l=myGnet(lee,seg)"
   ]
  },
  {
   "cell_type": "code",
   "execution_count": 80,
   "metadata": {
    "scrolled": false
   },
   "outputs": [
    {
     "data": {
      "text/plain": [
       "<matplotlib.image.AxesImage at 0x255998320a0>"
      ]
     },
     "execution_count": 80,
     "metadata": {},
     "output_type": "execute_result"
    },
    {
     "data": {
      "image/png": "[encoded data removed]",
      "text/plain": [
       "<Figure size 432x288 with 1 Axes>"
      ]
     },
     "metadata": {
      "needs_background": "light"
     },
     "output_type": "display_data"
    }
   ],
   "source": [
    "g=make_grid(lee*(1-seg)+l[1]*seg).permute(1,2,0).detach().numpy()\n",
    "g=cv2.cvtColor(g, cv2.COLOR_BGR2RGB)\n",
    "plt.imshow(g)"
   ]
  },
  {
   "cell_type": "code",
   "execution_count": null,
   "metadata": {},
   "outputs": [],
   "source": []
  }
 ],
 "metadata": {
  "accelerator": "GPU",
  "colab": {
   "authorship_tag": "ABX9TyN9WfGgp45fKeyPhMDfDsQR",
   "collapsed_sections": [],
   "name": "unmasker.ipynb",
   "provenance": []
  },
  "kernelspec": {
   "display_name": "Python 3",
   "language": "python",
   "name": "python3"
  },
  "language_info": {
   "codemirror_mode": {
    "name": "ipython",
    "version": 3
   },
   "file_extension": ".py",
   "mimetype": "text/x-python",
   "name": "python",
   "nbconvert_exporter": "python",
   "pygments_lexer": "ipython3",
   "version": "3.9.2"
  },
  "widgets": {
   "application/vnd.jupyter.widget-state+json": {
    "148851764bce46b19ba845d09cb9892a": {
     "model_module": "@jupyter-widgets/controls",
     "model_name": "ProgressStyleModel",
     "state": {
      "_model_module": "@jupyter-widgets/controls",
      "_model_module_version": "1.5.0",
      "_model_name": "ProgressStyleModel",
      "_view_count": null,
      "_view_module": "@jupyter-widgets/base",
      "_view_module_version": "1.2.0",
      "_view_name": "StyleView",
      "bar_color": null,
      "description_width": "initial"
     }
    },
    "3014a13958bd456ba0bc1f2be0a85a33": {
     "model_module": "@jupyter-widgets/controls",
     "model_name": "HBoxModel",
     "state": {
      "_dom_classes": [],
      "_model_module": "@jupyter-widgets/controls",
      "_model_module_version": "1.5.0",
      "_model_name": "HBoxModel",
      "_view_count": null,
      "_view_module": "@jupyter-widgets/controls",
      "_view_module_version": "1.5.0",
      "_view_name": "HBoxView",
      "box_style": "",
      "children": [
       "IPY_MODEL_d7dc1c96b9f644e2921e5a361a1ca5b6",
       "IPY_MODEL_36dff01353a84721bcad14962b7e992b"
      ],
      "layout": "IPY_MODEL_f016fd75f59949c585a7845e5daa91c5"
     }
    },
    "36dff01353a84721bcad14962b7e992b": {
     "model_module": "@jupyter-widgets/controls",
     "model_name": "HTMLModel",
     "state": {
      "_dom_classes": [],
      "_model_module": "@jupyter-widgets/controls",
      "_model_module_version": "1.5.0",
      "_model_name": "HTMLModel",
      "_view_count": null,
      "_view_module": "@jupyter-widgets/controls",
      "_view_module_version": "1.5.0",
      "_view_name": "HTMLView",
      "description": "",
      "description_tooltip": null,
      "layout": "IPY_MODEL_656029a58ae340a8a704348ae98ab72d",
      "placeholder": "​",
      "style": "IPY_MODEL_fb0f203efbd24e98aaf0cd435f9bb3e5",
      "value": " 528M/528M [00:16&lt;00:00, 34.4MB/s]"
     }
    },
    "656029a58ae340a8a704348ae98ab72d": {
     "model_module": "@jupyter-widgets/base",
     "model_name": "LayoutModel",
     "state": {
      "_model_module": "@jupyter-widgets/base",
      "_model_module_version": "1.2.0",
      "_model_name": "LayoutModel",
      "_view_count": null,
      "_view_module": "@jupyter-widgets/base",
      "_view_module_version": "1.2.0",
      "_view_name": "LayoutView",
      "align_content": null,
      "align_items": null,
      "align_self": null,
      "border": null,
      "bottom": null,
      "display": null,
      "flex": null,
      "flex_flow": null,
      "grid_area": null,
      "grid_auto_columns": null,
      "grid_auto_flow": null,
      "grid_auto_rows": null,
      "grid_column": null,
      "grid_gap": null,
      "grid_row": null,
      "grid_template_areas": null,
      "grid_template_columns": null,
      "grid_template_rows": null,
      "height": null,
      "justify_content": null,
      "justify_items": null,
      "left": null,
      "margin": null,
      "max_height": null,
      "max_width": null,
      "min_height": null,
      "min_width": null,
      "object_fit": null,
      "object_position": null,
      "order": null,
      "overflow": null,
      "overflow_x": null,
      "overflow_y": null,
      "padding": null,
      "right": null,
      "top": null,
      "visibility": null,
      "width": null
     }
    },
    "6f8f278315c64eeab4d3fc9d21d16807": {
     "model_module": "@jupyter-widgets/base",
     "model_name": "LayoutModel",
     "state": {
      "_model_module": "@jupyter-widgets/base",
      "_model_module_version": "1.2.0",
      "_model_name": "LayoutModel",
      "_view_count": null,
      "_view_module": "@jupyter-widgets/base",
      "_view_module_version": "1.2.0",
      "_view_name": "LayoutView",
      "align_content": null,
      "align_items": null,
      "align_self": null,
      "border": null,
      "bottom": null,
      "display": null,
      "flex": null,
      "flex_flow": null,
      "grid_area": null,
      "grid_auto_columns": null,
      "grid_auto_flow": null,
      "grid_auto_rows": null,
      "grid_column": null,
      "grid_gap": null,
      "grid_row": null,
      "grid_template_areas": null,
      "grid_template_columns": null,
      "grid_template_rows": null,
      "height": null,
      "justify_content": null,
      "justify_items": null,
      "left": null,
      "margin": null,
      "max_height": null,
      "max_width": null,
      "min_height": null,
      "min_width": null,
      "object_fit": null,
      "object_position": null,
      "order": null,
      "overflow": null,
      "overflow_x": null,
      "overflow_y": null,
      "padding": null,
      "right": null,
      "top": null,
      "visibility": null,
      "width": null
     }
    },
    "d7dc1c96b9f644e2921e5a361a1ca5b6": {
     "model_module": "@jupyter-widgets/controls",
     "model_name": "FloatProgressModel",
     "state": {
      "_dom_classes": [],
      "_model_module": "@jupyter-widgets/controls",
      "_model_module_version": "1.5.0",
      "_model_name": "FloatProgressModel",
      "_view_count": null,
      "_view_module": "@jupyter-widgets/controls",
      "_view_module_version": "1.5.0",
      "_view_name": "ProgressView",
      "bar_style": "success",
      "description": "100%",
      "description_tooltip": null,
      "layout": "IPY_MODEL_6f8f278315c64eeab4d3fc9d21d16807",
      "max": 553433881,
      "min": 0,
      "orientation": "horizontal",
      "style": "IPY_MODEL_148851764bce46b19ba845d09cb9892a",
      "value": 553433881
     }
    },
    "f016fd75f59949c585a7845e5daa91c5": {
     "model_module": "@jupyter-widgets/base",
     "model_name": "LayoutModel",
     "state": {
      "_model_module": "@jupyter-widgets/base",
      "_model_module_version": "1.2.0",
      "_model_name": "LayoutModel",
      "_view_count": null,
      "_view_module": "@jupyter-widgets/base",
      "_view_module_version": "1.2.0",
      "_view_name": "LayoutView",
      "align_content": null,
      "align_items": null,
      "align_self": null,
      "border": null,
      "bottom": null,
      "display": null,
      "flex": null,
      "flex_flow": null,
      "grid_area": null,
      "grid_auto_columns": null,
      "grid_auto_flow": null,
      "grid_auto_rows": null,
      "grid_column": null,
      "grid_gap": null,
      "grid_row": null,
      "grid_template_areas": null,
      "grid_template_columns": null,
      "grid_template_rows": null,
      "height": null,
      "justify_content": null,
      "justify_items": null,
      "left": null,
      "margin": null,
      "max_height": null,
      "max_width": null,
      "min_height": null,
      "min_width": null,
      "object_fit": null,
      "object_position": null,
      "order": null,
      "overflow": null,
      "overflow_x": null,
      "overflow_y": null,
      "padding": null,
      "right": null,
      "top": null,
      "visibility": null,
      "width": null
     }
    },
    "fb0f203efbd24e98aaf0cd435f9bb3e5": {
     "model_module": "@jupyter-widgets/controls",
     "model_name": "DescriptionStyleModel",
     "state": {
      "_model_module": "@jupyter-widgets/controls",
      "_model_module_version": "1.5.0",
      "_model_name": "DescriptionStyleModel",
      "_view_count": null,
      "_view_module": "@jupyter-widgets/base",
      "_view_module_version": "1.2.0",
      "_view_name": "StyleView",
      "description_width": ""
     }
    }
   }
  }
 },
 "nbformat": 4,
 "nbformat_minor": 1
}
